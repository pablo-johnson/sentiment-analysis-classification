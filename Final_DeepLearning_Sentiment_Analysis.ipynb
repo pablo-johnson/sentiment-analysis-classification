{
  "nbformat": 4,
  "nbformat_minor": 0,
  "metadata": {
    "accelerator": "GPU",
    "colab": {
      "name": "Final DeepLearning - Sentiment Analysis.ipynb",
      "provenance": [],
      "collapsed_sections": []
    },
    "kernelspec": {
      "display_name": "Python 3",
      "name": "python3"
    }
  },
  "cells": [
    {
      "cell_type": "code",
      "metadata": {
        "id": "vRp2wAZyUiUo"
      },
      "source": [
        "import math\r\n",
        "import numpy as np\r\n",
        "import tensorflow as tf\r\n",
        "from tensorflow.keras import layers, Model\r\n",
        "from tensorflow.keras.optimizers import Adam, RMSprop\r\n",
        "from tensorflow.keras.utils import plot_model\r\n",
        "from tensorflow.python.keras.regularizers import l2  # import regularizer\r\n",
        "from keras.datasets import imdb\r\n",
        "from keras.preprocessing import sequence\r\n",
        "from tensorflow.keras.callbacks import ModelCheckpoint, LearningRateScheduler\r\n",
        "from tensorflow.keras.preprocessing.sequence import pad_sequences\r\n",
        "from matplotlib import pyplot as plt"
      ],
      "execution_count": 1,
      "outputs": []
    },
    {
      "cell_type": "code",
      "metadata": {
        "id": "mwX1VylL95sZ"
      },
      "source": [
        "#HYPER PARAMETERS\n",
        "\n",
        "EMBEDDING_DIM = 32\n",
        "VOCABULARY_SIZE = 10000 #len(vocabulary)\n",
        "SEQ_LENGTH = 500 # size of each review\n",
        "INIT_LR = 1e-2 # Initial learning rate\n",
        "LR_REDUCE = 0.1 # Learning rate Decay factor\n",
        "BATCH_SIZE = 64 # mini-batch, between 16 & 128\n",
        "NUM_EPOCHS = 50 # Arbitary Number\n",
        "VAL_DATA = 0.20 # 20% of the train data"
      ],
      "execution_count": 2,
      "outputs": []
    },
    {
      "cell_type": "code",
      "metadata": {
        "id": "z9aVQeL-BbOy"
      },
      "source": [
        "def download_datasets( vocabulary_size):\r\n",
        "  ( x_train, y_train), (x_test,y_test) = imdb.load_data(num_words = vocabulary_size)\r\n",
        "  return  ( x_train, y_train), (x_test,y_test)"
      ],
      "execution_count": 3,
      "outputs": []
    },
    {
      "cell_type": "code",
      "metadata": {
        "id": "1Vu328vaCAfq"
      },
      "source": [
        "def preprocessing(x_train,x_test, seq_length):\r\n",
        "  x_train = sequence.pad_sequences(x_train, maxlen= seq_length, padding= 'post', value = 0)\r\n",
        "  x_test = sequence.pad_sequences(x_test, maxlen= seq_length, padding= 'post', value = 0)\r\n",
        "  return x_train, x_test"
      ],
      "execution_count": null,
      "outputs": []
    },
    {
      "cell_type": "code",
      "metadata": {
        "colab": {
          "base_uri": "https://localhost:8080/"
        },
        "id": "4UN4kAu8IqC2",
        "outputId": "b1ebbb71-ac9e-487b-cf5e-3adcac7b8762"
      },
      "source": [
        "( x_train, y_train), (x_test,y_test) = download_datasets( VOCABULARY_SIZE)\n",
        "x_train, x_test = preprocessing(x_train,x_test, SEQ_LENGTH)"
      ],
      "execution_count": null,
      "outputs": [
        {
          "output_type": "stream",
          "text": [
            "Downloading data from https://storage.googleapis.com/tensorflow/tf-keras-datasets/imdb.npz\n",
            "17465344/17464789 [==============================] - 0s 0us/step\n"
          ],
          "name": "stdout"
        },
        {
          "output_type": "stream",
          "text": [
            "<string>:6: VisibleDeprecationWarning: Creating an ndarray from ragged nested sequences (which is a list-or-tuple of lists-or-tuples-or ndarrays with different lengths or shapes) is deprecated. If you meant to do this, you must specify 'dtype=object' when creating the ndarray\n",
            "/usr/local/lib/python3.6/dist-packages/tensorflow/python/keras/datasets/imdb.py:159: VisibleDeprecationWarning: Creating an ndarray from ragged nested sequences (which is a list-or-tuple of lists-or-tuples-or ndarrays with different lengths or shapes) is deprecated. If you meant to do this, you must specify 'dtype=object' when creating the ndarray\n",
            "  x_train, y_train = np.array(xs[:idx]), np.array(labels[:idx])\n",
            "/usr/local/lib/python3.6/dist-packages/tensorflow/python/keras/datasets/imdb.py:160: VisibleDeprecationWarning: Creating an ndarray from ragged nested sequences (which is a list-or-tuple of lists-or-tuples-or ndarrays with different lengths or shapes) is deprecated. If you meant to do this, you must specify 'dtype=object' when creating the ndarray\n",
            "  x_test, y_test = np.array(xs[idx:]), np.array(labels[idx:])\n"
          ],
          "name": "stderr"
        }
      ]
    },
    {
      "cell_type": "code",
      "metadata": {
        "id": "SRV67uTF9zl2"
      },
      "source": [
        "def get_model(vocabulary_size, embedding_dim, input_length, summary=True):\n",
        "  inputs = layers.Input(shape=(input_length))\n",
        "  x = layers.Embedding(vocabulary_size, embedding_dim)(inputs)\n",
        "  b1 = layers.Conv1D(128, kernel_size=(3),padding='same',kernel_regularizer=l2(0.01), activation='relu')(x)\n",
        "  b1 = layers.MaxPool1D(pool_size=(2))(b1)\n",
        "  b1 = layers.Dropout(0.5)(b1)\n",
        "  b1 = layers.BatchNormalization()(b1)\n",
        "  b1 = layers.LSTM(128, return_sequences=False)(b1)\n",
        "\n",
        "  b2 = layers.Conv1D(128, kernel_size=(5),padding='same',kernel_regularizer=l2(0.01), activation='relu')(x)\n",
        "  b2 = layers.MaxPool1D(pool_size=(2))(b2)\n",
        "  b2 = layers.Dropout(0.5)(b2)\n",
        "  b2 = layers.BatchNormalization()(b2)\n",
        "  b2 = layers.LSTM(128, return_sequences=False)(b2)\n",
        "\n",
        "\n",
        "  b3 = layers.Conv1D(128, kernel_size=(7),padding='same',kernel_regularizer=l2(0.01), activation='relu')(x)\n",
        "  b3 = layers.MaxPool1D(pool_size=(2))(b3)\n",
        "  b3 = layers.Dropout(0.5)(b3)\n",
        "  b3 = layers.BatchNormalization()(b3)\n",
        "  b3 = layers.LSTM(128, return_sequences=False)(b3)\n",
        "\n",
        "  b4 = layers.Conv1D(128, kernel_size=(9),padding='same',kernel_regularizer=l2(0.01), activation='relu')(x)\n",
        "  b4 = layers.MaxPool1D(pool_size=(2))(b4)\n",
        "  b4 = layers.Dropout(0.5)(b4)\n",
        "  b4 = layers.BatchNormalization()(b4)\n",
        "  b4 = layers.LSTM(128, return_sequences=False)(b4)\n",
        "\n",
        "  concat = layers.concatenate([b1, b2, b3, b4], name='Concatenate')\n",
        "\n",
        "  out = layers.Dense(1, activation='sigmoid')(concat)\n",
        "\n",
        "\n",
        "  model = Model(inputs, out, name='CNN-LSTM_with_Combined_Kernels_from_mltiple_branches')\n",
        "  model.compile(loss='binary_crossentropy', optimizer=RMSprop(learning_rate=INIT_LR), metrics='accuracy')\n",
        "  \n",
        "  if summary:\n",
        "    print(model.summary())\n",
        "  \n",
        "  return model"
      ],
      "execution_count": null,
      "outputs": []
    },
    {
      "cell_type": "code",
      "metadata": {
        "colab": {
          "base_uri": "https://localhost:8080/"
        },
        "id": "dvmic1xlIhQp",
        "outputId": "0f0080f4-e91e-45d9-815e-e616846df80d"
      },
      "source": [
        "multi_branch_model = get_model(VOCABULARY_SIZE, EMBEDDING_DIM, SEQ_LENGTH)"
      ],
      "execution_count": null,
      "outputs": [
        {
          "output_type": "stream",
          "text": [
            "Model: \"CNN-LSTM_with_Combined_Kernels_from_mltiple_branches\"\n",
            "__________________________________________________________________________________________________\n",
            "Layer (type)                    Output Shape         Param #     Connected to                     \n",
            "==================================================================================================\n",
            "input_1 (InputLayer)            [(None, 500)]        0                                            \n",
            "__________________________________________________________________________________________________\n",
            "embedding (Embedding)           (None, 500, 32)      320000      input_1[0][0]                    \n",
            "__________________________________________________________________________________________________\n",
            "conv1d (Conv1D)                 (None, 500, 128)     12416       embedding[0][0]                  \n",
            "__________________________________________________________________________________________________\n",
            "conv1d_1 (Conv1D)               (None, 500, 128)     20608       embedding[0][0]                  \n",
            "__________________________________________________________________________________________________\n",
            "conv1d_2 (Conv1D)               (None, 500, 128)     28800       embedding[0][0]                  \n",
            "__________________________________________________________________________________________________\n",
            "conv1d_3 (Conv1D)               (None, 500, 128)     36992       embedding[0][0]                  \n",
            "__________________________________________________________________________________________________\n",
            "max_pooling1d (MaxPooling1D)    (None, 250, 128)     0           conv1d[0][0]                     \n",
            "__________________________________________________________________________________________________\n",
            "max_pooling1d_1 (MaxPooling1D)  (None, 250, 128)     0           conv1d_1[0][0]                   \n",
            "__________________________________________________________________________________________________\n",
            "max_pooling1d_2 (MaxPooling1D)  (None, 250, 128)     0           conv1d_2[0][0]                   \n",
            "__________________________________________________________________________________________________\n",
            "max_pooling1d_3 (MaxPooling1D)  (None, 250, 128)     0           conv1d_3[0][0]                   \n",
            "__________________________________________________________________________________________________\n",
            "dropout (Dropout)               (None, 250, 128)     0           max_pooling1d[0][0]              \n",
            "__________________________________________________________________________________________________\n",
            "dropout_1 (Dropout)             (None, 250, 128)     0           max_pooling1d_1[0][0]            \n",
            "__________________________________________________________________________________________________\n",
            "dropout_2 (Dropout)             (None, 250, 128)     0           max_pooling1d_2[0][0]            \n",
            "__________________________________________________________________________________________________\n",
            "dropout_3 (Dropout)             (None, 250, 128)     0           max_pooling1d_3[0][0]            \n",
            "__________________________________________________________________________________________________\n",
            "batch_normalization (BatchNorma (None, 250, 128)     512         dropout[0][0]                    \n",
            "__________________________________________________________________________________________________\n",
            "batch_normalization_1 (BatchNor (None, 250, 128)     512         dropout_1[0][0]                  \n",
            "__________________________________________________________________________________________________\n",
            "batch_normalization_2 (BatchNor (None, 250, 128)     512         dropout_2[0][0]                  \n",
            "__________________________________________________________________________________________________\n",
            "batch_normalization_3 (BatchNor (None, 250, 128)     512         dropout_3[0][0]                  \n",
            "__________________________________________________________________________________________________\n",
            "lstm (LSTM)                     (None, 128)          131584      batch_normalization[0][0]        \n",
            "__________________________________________________________________________________________________\n",
            "lstm_1 (LSTM)                   (None, 128)          131584      batch_normalization_1[0][0]      \n",
            "__________________________________________________________________________________________________\n",
            "lstm_2 (LSTM)                   (None, 128)          131584      batch_normalization_2[0][0]      \n",
            "__________________________________________________________________________________________________\n",
            "lstm_3 (LSTM)                   (None, 128)          131584      batch_normalization_3[0][0]      \n",
            "__________________________________________________________________________________________________\n",
            "Concatenate (Concatenate)       (None, 512)          0           lstm[0][0]                       \n",
            "                                                                 lstm_1[0][0]                     \n",
            "                                                                 lstm_2[0][0]                     \n",
            "                                                                 lstm_3[0][0]                     \n",
            "__________________________________________________________________________________________________\n",
            "dense (Dense)                   (None, 1)            513         Concatenate[0][0]                \n",
            "==================================================================================================\n",
            "Total params: 947,713\n",
            "Trainable params: 946,689\n",
            "Non-trainable params: 1,024\n",
            "__________________________________________________________________________________________________\n",
            "None\n"
          ],
          "name": "stdout"
        }
      ]
    },
    {
      "cell_type": "code",
      "metadata": {
        "id": "Z98mzxiM-e6t"
      },
      "source": [
        "\n",
        "train_steps = np.ceil(int(np.round(len(x_train) * (1 - VAL_DATA))) / BATCH_SIZE)\n",
        "val_steps = np.ceil(int(np.round(len(x_train) * VAL_DATA)) / BATCH_SIZE)"
      ],
      "execution_count": null,
      "outputs": []
    },
    {
      "cell_type": "code",
      "metadata": {
        "id": "FB-X_9PcHXqn"
      },
      "source": [
        "def step_decay(epoch):\n",
        "\tinitial_lrate = 0.01\n",
        "\tdrop = 0.1\n",
        "\tepochs_drop = 1.0\n",
        "  \n",
        "\tlrate = initial_lrate * math.pow(drop, math.floor((1+epoch)/epochs_drop))\n",
        "\treturn lrate\n",
        "\n",
        "StopCbk = tf.keras.callbacks.EarlyStopping(monitor='val_loss', patience=10, restore_best_weights=True,verbose=1)\n",
        "reduce_lr_on_plateu = tf.keras.callbacks.ReduceLROnPlateau(monitor='val_loss',\n",
        "                                                           factor=0.1,\n",
        "                                                           patience=5,\n",
        "                                                           min_lr=1e-5)"
      ],
      "execution_count": null,
      "outputs": []
    },
    {
      "cell_type": "code",
      "metadata": {
        "colab": {
          "base_uri": "https://localhost:8080/"
        },
        "id": "tHDVSezGHZnB",
        "outputId": "95de5c1a-4ddf-41fc-f6eb-2411706f0dcc"
      },
      "source": [
        "history = multi_branch_model.fit(x_train, y_train, \n",
        "                                 epochs=NUM_EPOCHS,\n",
        "                                 batch_size=BATCH_SIZE,\n",
        "                                 callbacks=[StopCbk, reduce_lr_on_plateu],\n",
        "                                 validation_split= VAL_DATA,\n",
        "                                 verbose=1)"
      ],
      "execution_count": null,
      "outputs": [
        {
          "output_type": "stream",
          "text": [
            "Epoch 1/50\n",
            "313/313 [==============================] - 41s 91ms/step - loss: 1.0271 - accuracy: 0.5012 - val_loss: 0.7967 - val_accuracy: 0.5062\n",
            "Epoch 2/50\n",
            "313/313 [==============================] - 27s 86ms/step - loss: 0.7270 - accuracy: 0.5000 - val_loss: 0.7462 - val_accuracy: 0.5098\n",
            "Epoch 3/50\n",
            "313/313 [==============================] - 27s 87ms/step - loss: 0.7309 - accuracy: 0.5097 - val_loss: 0.7331 - val_accuracy: 0.5090\n",
            "Epoch 4/50\n",
            "313/313 [==============================] - 27s 87ms/step - loss: 0.7381 - accuracy: 0.5171 - val_loss: 0.7606 - val_accuracy: 0.5084\n",
            "Epoch 5/50\n",
            "313/313 [==============================] - 27s 87ms/step - loss: 0.7451 - accuracy: 0.5097 - val_loss: 0.7499 - val_accuracy: 0.4754\n",
            "Epoch 6/50\n",
            "313/313 [==============================] - 27s 88ms/step - loss: 0.7543 - accuracy: 0.5655 - val_loss: 0.7048 - val_accuracy: 0.7526\n",
            "Epoch 7/50\n",
            "313/313 [==============================] - 27s 88ms/step - loss: 0.6543 - accuracy: 0.7539 - val_loss: 0.5342 - val_accuracy: 0.8406\n",
            "Epoch 8/50\n",
            "313/313 [==============================] - 28s 88ms/step - loss: 0.4938 - accuracy: 0.8505 - val_loss: 0.6252 - val_accuracy: 0.7914\n",
            "Epoch 9/50\n",
            "313/313 [==============================] - 28s 88ms/step - loss: 0.4301 - accuracy: 0.8791 - val_loss: 0.4104 - val_accuracy: 0.8860\n",
            "Epoch 10/50\n",
            "313/313 [==============================] - 28s 88ms/step - loss: 0.3964 - accuracy: 0.8891 - val_loss: 0.7820 - val_accuracy: 0.7102\n",
            "Epoch 11/50\n",
            "313/313 [==============================] - 28s 88ms/step - loss: 0.3801 - accuracy: 0.8958 - val_loss: 0.5700 - val_accuracy: 0.8504\n",
            "Epoch 12/50\n",
            "313/313 [==============================] - 28s 88ms/step - loss: 0.3596 - accuracy: 0.9046 - val_loss: 0.4157 - val_accuracy: 0.8832\n",
            "Epoch 13/50\n",
            "313/313 [==============================] - 28s 88ms/step - loss: 0.3471 - accuracy: 0.9113 - val_loss: 0.6555 - val_accuracy: 0.7732\n",
            "Epoch 14/50\n",
            "313/313 [==============================] - 28s 88ms/step - loss: 0.3278 - accuracy: 0.9216 - val_loss: 0.6548 - val_accuracy: 0.7866\n",
            "Epoch 15/50\n",
            "313/313 [==============================] - 28s 88ms/step - loss: 0.2864 - accuracy: 0.9192 - val_loss: 0.3056 - val_accuracy: 0.8946\n",
            "Epoch 16/50\n",
            "313/313 [==============================] - 28s 88ms/step - loss: 0.2149 - accuracy: 0.9360 - val_loss: 0.2963 - val_accuracy: 0.8982\n",
            "Epoch 17/50\n",
            "313/313 [==============================] - 28s 88ms/step - loss: 0.1847 - accuracy: 0.9439 - val_loss: 0.3019 - val_accuracy: 0.9034\n",
            "Epoch 18/50\n",
            "313/313 [==============================] - 28s 88ms/step - loss: 0.1848 - accuracy: 0.9458 - val_loss: 0.2894 - val_accuracy: 0.9002\n",
            "Epoch 19/50\n",
            "313/313 [==============================] - 28s 88ms/step - loss: 0.1815 - accuracy: 0.9449 - val_loss: 0.3010 - val_accuracy: 0.9016\n",
            "Epoch 20/50\n",
            "313/313 [==============================] - 28s 88ms/step - loss: 0.1771 - accuracy: 0.9449 - val_loss: 0.3071 - val_accuracy: 0.8946\n",
            "Epoch 21/50\n",
            "313/313 [==============================] - 28s 88ms/step - loss: 0.1679 - accuracy: 0.9506 - val_loss: 0.3004 - val_accuracy: 0.8960\n",
            "Epoch 22/50\n",
            "313/313 [==============================] - 28s 88ms/step - loss: 0.1743 - accuracy: 0.9477 - val_loss: 0.2937 - val_accuracy: 0.9012\n",
            "Epoch 23/50\n",
            "313/313 [==============================] - 28s 88ms/step - loss: 0.1648 - accuracy: 0.9487 - val_loss: 0.2967 - val_accuracy: 0.8986\n",
            "Epoch 24/50\n",
            "313/313 [==============================] - 28s 88ms/step - loss: 0.1504 - accuracy: 0.9558 - val_loss: 0.2941 - val_accuracy: 0.8980\n",
            "Epoch 25/50\n",
            "313/313 [==============================] - 28s 88ms/step - loss: 0.1515 - accuracy: 0.9553 - val_loss: 0.2928 - val_accuracy: 0.8978\n",
            "Epoch 26/50\n",
            "313/313 [==============================] - 28s 88ms/step - loss: 0.1589 - accuracy: 0.9521 - val_loss: 0.2961 - val_accuracy: 0.8976\n",
            "Epoch 27/50\n",
            "313/313 [==============================] - 28s 88ms/step - loss: 0.1546 - accuracy: 0.9550 - val_loss: 0.2956 - val_accuracy: 0.8974\n",
            "Epoch 28/50\n",
            "313/313 [==============================] - 28s 88ms/step - loss: 0.1452 - accuracy: 0.9553 - val_loss: 0.2943 - val_accuracy: 0.8990\n",
            "Restoring model weights from the end of the best epoch.\n",
            "Epoch 00028: early stopping\n"
          ],
          "name": "stdout"
        }
      ]
    },
    {
      "cell_type": "code",
      "metadata": {
        "id": "Gb0MPnH2--Ix"
      },
      "source": [
        "multi_branch_model.save_weights(filepath='/final_weight.h5')"
      ],
      "execution_count": null,
      "outputs": []
    },
    {
      "cell_type": "code",
      "metadata": {
        "colab": {
          "base_uri": "https://localhost:8080/",
          "height": 210
        },
        "id": "_d17Kxtw1Za4",
        "outputId": "ab7c9db0-577f-4e60-db71-f07bdebbe23c"
      },
      "source": [
        "import matplotlib.pyplot as plt\n",
        "\n",
        "def showAccuracyHistory(history):\n",
        "  history_dict = history.history\n",
        "  acc = history_dict['accuracy']\n",
        "  val_acc = history_dict['val_accuracy']\n",
        "  epochs = range(1, len(acc) + 1)\n",
        "\n",
        "  plt.figure(figsize=(20,5))\n",
        "  plt.plot(epochs, acc, label = 'accuracy')\n",
        "  plt.plot(epochs, val_acc, label = 'val_acc')\n",
        "  plt.xlabel('epoch')\n",
        "  plt.ylabel('accuracy')\n",
        "  plt.title('Accuracy during training')\n",
        "  plt.show()\n",
        "\n",
        "showAccuracyHistory(history)"
      ],
      "execution_count": null,
      "outputs": [
        {
          "output_type": "display_data",
          "data": {
            "image/png": "[encoded data removed]",
            "text/plain": [
              "<Figure size 1440x360 with 1 Axes>"
            ]
          },
          "metadata": {
            "tags": [],
            "needs_background": "light"
          }
        }
      ]
    },
    {
      "cell_type": "markdown",
      "metadata": {
        "id": "xh0jqr9hgmQm"
      },
      "source": [
        "##Confusion Matrix Calculation\r\n",
        "###Using Sklearn "
      ]
    },
    {
      "cell_type": "code",
      "metadata": {
        "id": "6g0txw1ug5dL"
      },
      "source": [
        "import numpy as np\r\n",
        "from sklearn.metrics import confusion_matrix\r\n",
        "import itertools\r\n",
        "\r\n",
        "predictions = list(multi_branch_model.predict(x_test))\r\n",
        "predictions = list(map(int, list(map(np.round, predictions))))\r\n",
        "\r\n",
        "cm = confusion_matrix(y_test, predictions)"
      ],
      "execution_count": null,
      "outputs": []
    },
    {
      "cell_type": "code",
      "metadata": {
        "id": "YuX9QNnNgYSF"
      },
      "source": [
        "def plot_confusion_matrix(cm, classes,\r\n",
        "                        normalize=False,\r\n",
        "                        title='Confusion matrix',\r\n",
        "                        cmap=plt.cm.Blues):\r\n",
        "    \"\"\"\r\n",
        "    This function prints and plots the confusion matrix.\r\n",
        "    Normalization can be applied by setting `normalize=True`.\r\n",
        "    \"\"\"\r\n",
        "    plt.imshow(cm, interpolation='nearest', cmap=cmap)\r\n",
        "    plt.title(title)\r\n",
        "    plt.colorbar()\r\n",
        "    tick_marks = np.arange(len(classes))\r\n",
        "    plt.xticks(tick_marks, classes, rotation=45)\r\n",
        "    plt.yticks(tick_marks, classes)\r\n",
        "\r\n",
        "    if normalize:\r\n",
        "        cm = np.round(cm.astype('float') / cm.sum(axis=1)[:, np.newaxis], 2)\r\n",
        "        print(\"Normalized confusion matrix\")\r\n",
        "    else:\r\n",
        "        print('Confusion matrix, without normalization')\r\n",
        "\r\n",
        "    print(cm)\r\n",
        "\r\n",
        "    thresh = cm.max() / 2.\r\n",
        "    for i, j in itertools.product(range(cm.shape[0]), range(cm.shape[1])):\r\n",
        "        plt.text(j, i, cm[i, j],\r\n",
        "            horizontalalignment=\"center\",\r\n",
        "            color=\"white\" if cm[i, j] > thresh else \"black\")\r\n",
        "\r\n",
        "    plt.tight_layout()\r\n",
        "    plt.ylabel('True label')\r\n",
        "    plt.xlabel('Predicted label')\r\n",
        "    plt.show()\r\n",
        "\r\n"
      ],
      "execution_count": null,
      "outputs": []
    },
    {
      "cell_type": "code",
      "metadata": {
        "id": "WTNIkj-oj2_e",
        "colab": {
          "base_uri": "https://localhost:8080/",
          "height": 362
        },
        "outputId": "0b413a27-f61f-4d00-bfc8-b8865a3cfdbd"
      },
      "source": [
        "plot_confusion_matrix(cm, ['Positive feedback', 'Negative feedback'])"
      ],
      "execution_count": null,
      "outputs": [
        {
          "output_type": "stream",
          "text": [
            "Confusion matrix, without normalization\n",
            "[[11278  1222]\n",
            " [ 1600 10900]]\n"
          ],
          "name": "stdout"
        },
        {
          "output_type": "display_data",
          "data": {
            "image/png": "[encoded data removed]",
            "text/plain": [
              "<Figure size 432x288 with 2 Axes>"
            ]
          },
          "metadata": {
            "tags": [],
            "needs_background": "light"
          }
        }
      ]
    },
    {
      "cell_type": "code",
      "metadata": {
        "id": "LKHt6BdXsP7q",
        "colab": {
          "base_uri": "https://localhost:8080/"
        },
        "outputId": "8efdd733-a700-4147-9db6-204f3eac1d9b"
      },
      "source": [
        "print(\"Test data accuracy:\", (cm[0,0]+cm[1,1])/np.sum(cm)*100,\"%\")\r\n"
      ],
      "execution_count": null,
      "outputs": [
        {
          "output_type": "stream",
          "text": [
            "Test data accuracy: 88.712 %\n"
          ],
          "name": "stdout"
        }
      ]
    },
    {
      "cell_type": "code",
      "metadata": {
        "id": "Xc_N2YriHeJK",
        "colab": {
          "base_uri": "https://localhost:8080/"
        },
        "outputId": "cfd3a74f-0912-402d-b84b-156b5dc9e585"
      },
      "source": [
        "history_dict = history.history\n",
        "history_dict.keys()"
      ],
      "execution_count": null,
      "outputs": [
        {
          "output_type": "execute_result",
          "data": {
            "text/plain": [
              "dict_keys(['loss', 'accuracy', 'val_loss', 'val_accuracy', 'lr'])"
            ]
          },
          "metadata": {
            "tags": []
          },
          "execution_count": 17
        }
      ]
    },
    {
      "cell_type": "code",
      "metadata": {
        "id": "81mmUMNkN2XI"
      },
      "source": [
        "def plot_history(history):\n",
        "  fig, (ax1, ax2) = plt.subplots(2,1, sharex=True, dpi=150)\n",
        "  ax1.plot(history.history['loss'], label='training')\n",
        "  ax1.plot(history.history['val_loss'], label='validation')\n",
        "  ax1.set_ylabel('Cross-Entropy Loss')\n",
        "  ax1.set_yscale('log')\n",
        "  if history.history.__contains__('lr'):\n",
        "    ax1b = ax1.twinx()\n",
        "    ax1b.plot(history.history['lr'], 'g-', linewidth=1)\n",
        "    ax1b.set_yscale('log')\n",
        "    ax1b.set_ylabel('Learning Rate', color='g')\n",
        "\n",
        "  ax2.plot(history.history['accuracy'], label='training')\n",
        "  ax2.plot(history.history['val_accuracy'], label='validation')\n",
        "  ax2.set_ylabel('Accuracy')\n",
        "  ax2.set_xlabel('Epochs')\n",
        "  ax2.legend()\n",
        "  plt.show() "
      ],
      "execution_count": null,
      "outputs": []
    },
    {
      "cell_type": "code",
      "metadata": {
        "id": "MaMoHWQSN5pm"
      },
      "source": [
        "plot_history(history)"
      ],
      "execution_count": null,
      "outputs": []
    },
    {
      "cell_type": "code",
      "metadata": {
        "id": "0KE9LhEEHgVB",
        "colab": {
          "base_uri": "https://localhost:8080/",
          "height": 295
        },
        "outputId": "8a0c80fc-85c1-4aae-82b1-5d080662aee6"
      },
      "source": [
        "import matplotlib.pyplot as plt\n",
        "history_dict = history.history\n",
        "loss_values = history_dict['loss']\n",
        "val_loss_values = history_dict['val_loss']\n",
        "acc = history_dict['accuracy']\n",
        "val_acc = history_dict['val_accuracy']\n",
        "epochs = range(1, len(acc) + 1)\n",
        "plt.plot(epochs, loss_values, 'bo', label='Training Loss')\n",
        "plt.plot(epochs, val_loss_values, 'b', label='Validation Loss')\n",
        "plt.title('Training and Validation Loss')\n",
        "plt.xlabel('Epochs')\n",
        "plt.ylabel('Loss')\n",
        "plt.legend()\n",
        "plt.show()"
      ],
      "execution_count": null,
      "outputs": [
        {
          "output_type": "display_data",
          "data": {
            "image/png": "[encoded data removed]",
            "text/plain": [
              "<Figure size 432x288 with 1 Axes>"
            ]
          },
          "metadata": {
            "tags": [],
            "needs_background": "light"
          }
        }
      ]
    },
    {
      "cell_type": "code",
      "metadata": {
        "id": "TWmvTr2aHibC",
        "colab": {
          "base_uri": "https://localhost:8080/",
          "height": 295
        },
        "outputId": "94866f69-34fb-4898-c2c2-f077906059db"
      },
      "source": [
        "plt.clf()\n",
        "plt.plot(epochs, acc, 'bo', label='Training Acc')\n",
        "plt.plot(epochs, val_acc, 'b', label='Validation Acc')\n",
        "plt.title('Training and Validation Accuracy')\n",
        "plt.xlabel('Epochs')\n",
        "plt.ylabel('Accuracy')\n",
        "plt.legend()\n",
        "plt.show()"
      ],
      "execution_count": null,
      "outputs": [
        {
          "output_type": "display_data",
          "data": {
            "image/png": "[encoded data removed]",
            "text/plain": [
              "<Figure size 432x288 with 1 Axes>"
            ]
          },
          "metadata": {
            "tags": [],
            "needs_background": "light"
          }
        }
      ]
    },
    {
      "cell_type": "code",
      "metadata": {
        "id": "t8PoTwkzHmiu",
        "colab": {
          "base_uri": "https://localhost:8080/"
        },
        "outputId": "3b2b6842-d426-44cd-f69c-f6284576005b"
      },
      "source": [
        "# Test the model\n",
        "test_results = multi_branch_model.evaluate(x_test, y_test, verbose=True)\n",
        "print(f'Output of Test --> Loss: {test_results[0]} - Accuracy: {100*test_results[1]}%')"
      ],
      "execution_count": null,
      "outputs": [
        {
          "output_type": "stream",
          "text": [
            "782/782 [==============================] - 17s 21ms/step - loss: 0.3216 - accuracy: 0.8871\n",
            "Output of Test --> Loss: 0.32163211703300476 - Accuracy: 88.7120008468628%\n"
          ],
          "name": "stdout"
        }
      ]
    }
  ]
}